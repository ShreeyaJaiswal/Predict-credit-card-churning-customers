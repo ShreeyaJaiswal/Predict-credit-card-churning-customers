{
  "nbformat": 4,
  "nbformat_minor": 0,
  "metadata": {
    "colab": {
      "name": "Churning.ipynb",
      "provenance": [],
      "collapsed_sections": []
    },
    "kernelspec": {
      "name": "python3",
      "display_name": "Python 3"
    }
  },
  "cells": [
    {
      "cell_type": "code",
      "metadata": {
        "colab": {
          "base_uri": "https://localhost:8080/"
        },
        "id": "fPY19Vy1UD_R",
        "outputId": "597f3359-d083-4174-b486-85eae2be584b"
      },
      "source": [
        "from google.colab import drive\r\n",
        "drive.mount('/content/drive')"
      ],
      "execution_count": 468,
      "outputs": [
        {
          "output_type": "stream",
          "text": [
            "Drive already mounted at /content/drive; to attempt to forcibly remount, call drive.mount(\"/content/drive\", force_remount=True).\n"
          ],
          "name": "stdout"
        }
      ]
    },
    {
      "cell_type": "code",
      "metadata": {
        "colab": {
          "base_uri": "https://localhost:8080/"
        },
        "id": "xhfZ5Mf_UaYn",
        "outputId": "5e8741e5-dafe-42fa-f07b-d059d768d7e0"
      },
      "source": [
        "!ls \"/content/drive/MyDrive/BankChurners.csv\""
      ],
      "execution_count": 469,
      "outputs": [
        {
          "output_type": "stream",
          "text": [
            "/content/drive/MyDrive/BankChurners.csv\n"
          ],
          "name": "stdout"
        }
      ]
    },
    {
      "cell_type": "code",
      "metadata": {
        "id": "KM4q4fEaUtRQ"
      },
      "source": [
        "import pandas as pd\r\n",
        "import numpy as np\r\n",
        "import matplotlib.pyplot as plt\r\n",
        "import seaborn as sns\r\n",
        "\r\n",
        "import warnings\r\n",
        "warnings.filterwarnings(\"ignore\")\r\n",
        "\r\n",
        "pd.set_option('display.float_format', lambda x: '%.2f' % x)\r\n",
        "\r\n"
      ],
      "execution_count": 470,
      "outputs": []
    },
    {
      "cell_type": "code",
      "metadata": {
        "colab": {
          "base_uri": "https://localhost:8080/",
          "height": 207
        },
        "id": "HkbK6K5LeVnx",
        "outputId": "5db482b6-e055-42d5-ccde-7c24cf5a0901"
      },
      "source": [
        "df=pd.read_csv(\"/content/drive/MyDrive/BankChurners.csv\")\r\n",
        "df=df.iloc[:,:-2]\r\n",
        "df.head(3)"
      ],
      "execution_count": 471,
      "outputs": [
        {
          "output_type": "execute_result",
          "data": {
            "text/html": [
              "<div>\n",
              "<style scoped>\n",
              "    .dataframe tbody tr th:only-of-type {\n",
              "        vertical-align: middle;\n",
              "    }\n",
              "\n",
              "    .dataframe tbody tr th {\n",
              "        vertical-align: top;\n",
              "    }\n",
              "\n",
              "    .dataframe thead th {\n",
              "        text-align: right;\n",
              "    }\n",
              "</style>\n",
              "<table border=\"1\" class=\"dataframe\">\n",
              "  <thead>\n",
              "    <tr style=\"text-align: right;\">\n",
              "      <th></th>\n",
              "      <th>CLIENTNUM</th>\n",
              "      <th>Attrition_Flag</th>\n",
              "      <th>Customer_Age</th>\n",
              "      <th>Gender</th>\n",
              "      <th>Dependent_count</th>\n",
              "      <th>Education_Level</th>\n",
              "      <th>Marital_Status</th>\n",
              "      <th>Income_Category</th>\n",
              "      <th>Card_Category</th>\n",
              "      <th>Months_on_book</th>\n",
              "      <th>Total_Relationship_Count</th>\n",
              "      <th>Months_Inactive_12_mon</th>\n",
              "      <th>Contacts_Count_12_mon</th>\n",
              "      <th>Credit_Limit</th>\n",
              "      <th>Total_Revolving_Bal</th>\n",
              "      <th>Avg_Open_To_Buy</th>\n",
              "      <th>Total_Amt_Chng_Q4_Q1</th>\n",
              "      <th>Total_Trans_Amt</th>\n",
              "      <th>Total_Trans_Ct</th>\n",
              "      <th>Total_Ct_Chng_Q4_Q1</th>\n",
              "      <th>Avg_Utilization_Ratio</th>\n",
              "    </tr>\n",
              "  </thead>\n",
              "  <tbody>\n",
              "    <tr>\n",
              "      <th>0</th>\n",
              "      <td>768805383</td>\n",
              "      <td>Existing Customer</td>\n",
              "      <td>45</td>\n",
              "      <td>M</td>\n",
              "      <td>3</td>\n",
              "      <td>High School</td>\n",
              "      <td>Married</td>\n",
              "      <td>$60K - $80K</td>\n",
              "      <td>Blue</td>\n",
              "      <td>39</td>\n",
              "      <td>5</td>\n",
              "      <td>1</td>\n",
              "      <td>3</td>\n",
              "      <td>12691.00</td>\n",
              "      <td>777</td>\n",
              "      <td>11914.00</td>\n",
              "      <td>1.33</td>\n",
              "      <td>1144</td>\n",
              "      <td>42</td>\n",
              "      <td>1.62</td>\n",
              "      <td>0.06</td>\n",
              "    </tr>\n",
              "    <tr>\n",
              "      <th>1</th>\n",
              "      <td>818770008</td>\n",
              "      <td>Existing Customer</td>\n",
              "      <td>49</td>\n",
              "      <td>F</td>\n",
              "      <td>5</td>\n",
              "      <td>Graduate</td>\n",
              "      <td>Single</td>\n",
              "      <td>Less than $40K</td>\n",
              "      <td>Blue</td>\n",
              "      <td>44</td>\n",
              "      <td>6</td>\n",
              "      <td>1</td>\n",
              "      <td>2</td>\n",
              "      <td>8256.00</td>\n",
              "      <td>864</td>\n",
              "      <td>7392.00</td>\n",
              "      <td>1.54</td>\n",
              "      <td>1291</td>\n",
              "      <td>33</td>\n",
              "      <td>3.71</td>\n",
              "      <td>0.10</td>\n",
              "    </tr>\n",
              "    <tr>\n",
              "      <th>2</th>\n",
              "      <td>713982108</td>\n",
              "      <td>Existing Customer</td>\n",
              "      <td>51</td>\n",
              "      <td>M</td>\n",
              "      <td>3</td>\n",
              "      <td>Graduate</td>\n",
              "      <td>Married</td>\n",
              "      <td>$80K - $120K</td>\n",
              "      <td>Blue</td>\n",
              "      <td>36</td>\n",
              "      <td>4</td>\n",
              "      <td>1</td>\n",
              "      <td>0</td>\n",
              "      <td>3418.00</td>\n",
              "      <td>0</td>\n",
              "      <td>3418.00</td>\n",
              "      <td>2.59</td>\n",
              "      <td>1887</td>\n",
              "      <td>20</td>\n",
              "      <td>2.33</td>\n",
              "      <td>0.00</td>\n",
              "    </tr>\n",
              "  </tbody>\n",
              "</table>\n",
              "</div>"
            ],
            "text/plain": [
              "   CLIENTNUM     Attrition_Flag  ...  Total_Ct_Chng_Q4_Q1 Avg_Utilization_Ratio\n",
              "0  768805383  Existing Customer  ...                 1.62                  0.06\n",
              "1  818770008  Existing Customer  ...                 3.71                  0.10\n",
              "2  713982108  Existing Customer  ...                 2.33                  0.00\n",
              "\n",
              "[3 rows x 21 columns]"
            ]
          },
          "metadata": {
            "tags": []
          },
          "execution_count": 471
        }
      ]
    },
    {
      "cell_type": "code",
      "metadata": {
        "colab": {
          "base_uri": "https://localhost:8080/"
        },
        "id": "ek8prPs8VEM-",
        "outputId": "e114b6bb-61f8-4474-d395-5dd41b1d1609"
      },
      "source": [
        "df.shape"
      ],
      "execution_count": 472,
      "outputs": [
        {
          "output_type": "execute_result",
          "data": {
            "text/plain": [
              "(10127, 21)"
            ]
          },
          "metadata": {
            "tags": []
          },
          "execution_count": 472
        }
      ]
    },
    {
      "cell_type": "markdown",
      "metadata": {
        "id": "VbEy7df9M68n"
      },
      "source": [
        "Dividing the dataset into train and test\r\n",
        "\r\n",
        "---\r\n",
        "\r\n",
        "\r\n",
        "\r\n",
        "\r\n",
        "\r\n",
        "\r\n",
        "\r\n"
      ]
    },
    {
      "cell_type": "code",
      "metadata": {
        "id": "90UgrMeyZVo8"
      },
      "source": [
        "X=df.drop(\"Attrition_Flag\",axis=1)\r\n",
        "Y=df[\"Attrition_Flag\"]"
      ],
      "execution_count": 473,
      "outputs": []
    },
    {
      "cell_type": "code",
      "metadata": {
        "id": "l1zT6XGOZ6G_"
      },
      "source": [
        "from sklearn.model_selection import train_test_split\r\n",
        "x_train,x_test,y_train,y_test=train_test_split(X,Y,test_size=0.30,random_state=110,stratify=Y)\r\n"
      ],
      "execution_count": 474,
      "outputs": []
    },
    {
      "cell_type": "markdown",
      "metadata": {
        "id": "GfdPRN7Yjo9h"
      },
      "source": [
        "Analyzing the dataset.\r\n",
        "\r\n",
        "---\r\n",
        "\r\n",
        "\r\n",
        "\r\n",
        "\r\n"
      ]
    },
    {
      "cell_type": "code",
      "metadata": {
        "colab": {
          "base_uri": "https://localhost:8080/"
        },
        "id": "7kq-7js6KJqT",
        "outputId": "6e7559a1-d39a-4d30-e77a-c96c978faef8"
      },
      "source": [
        "print(\"Train dataset\",x_train.shape)\r\n",
        "print(\"Test dataset\",x_test.shape)"
      ],
      "execution_count": 475,
      "outputs": [
        {
          "output_type": "stream",
          "text": [
            "Train dataset (7088, 20)\n",
            "Test dataset (3039, 20)\n"
          ],
          "name": "stdout"
        }
      ]
    },
    {
      "cell_type": "code",
      "metadata": {
        "colab": {
          "base_uri": "https://localhost:8080/"
        },
        "id": "Xn65llAYEQli",
        "outputId": "1ade2166-d3a6-42a3-d757-7b647e63d259"
      },
      "source": [
        "def check_datatye(dataframe):\r\n",
        "  categorical,numerical=[],[]\r\n",
        "  for col_names in dataframe.columns:\r\n",
        "    if(dataframe[col_names].dtypes==\"object\"):\r\n",
        "      categorical.append(col_names)\r\n",
        "    else:\r\n",
        "      numerical.append(col_names)\r\n",
        "  return categorical,numerical\r\n",
        "\r\n",
        "categorical,numerical=check_datatye(x_train)\r\n",
        "print(\"There are {} categorical,and {} numerical independent variables \".format(len(categorical),len(numerical)),\"\\n\")\r\n",
        "print(\"Categorical columns are\",categorical)\r\n",
        "print(\"Numerical columns are\", numerical)"
      ],
      "execution_count": 476,
      "outputs": [
        {
          "output_type": "stream",
          "text": [
            "There are 5 categorical,and 15 numerical independent variables  \n",
            "\n",
            "Categorical columns are ['Gender', 'Education_Level', 'Marital_Status', 'Income_Category', 'Card_Category']\n",
            "Numerical columns are ['CLIENTNUM', 'Customer_Age', 'Dependent_count', 'Months_on_book', 'Total_Relationship_Count', 'Months_Inactive_12_mon', 'Contacts_Count_12_mon', 'Credit_Limit', 'Total_Revolving_Bal', 'Avg_Open_To_Buy', 'Total_Amt_Chng_Q4_Q1', 'Total_Trans_Amt', 'Total_Trans_Ct', 'Total_Ct_Chng_Q4_Q1', 'Avg_Utilization_Ratio']\n"
          ],
          "name": "stdout"
        }
      ]
    },
    {
      "cell_type": "code",
      "metadata": {
        "colab": {
          "base_uri": "https://localhost:8080/"
        },
        "id": "jRngtTehTc25",
        "outputId": "af1ef668-f349-453f-b6c4-f47716ecd909"
      },
      "source": [
        "def check_unique_categorical(dataframe,categorical):\r\n",
        "  for col_name in categorical:\r\n",
        "    print(col_name,\":\",dataframe[col_name].unique())\r\n",
        "\r\n",
        "check_unique_categorical(x_train,categorical)"
      ],
      "execution_count": 477,
      "outputs": [
        {
          "output_type": "stream",
          "text": [
            "Gender : ['F' 'M']\n",
            "Education_Level : ['High School' 'Uneducated' 'Post-Graduate' 'Graduate' 'College' 'Unknown'\n",
            " 'Doctorate']\n",
            "Marital_Status : ['Single' 'Married' 'Divorced' 'Unknown']\n",
            "Income_Category : ['Less than $40K' '$60K - $80K' 'Unknown' '$80K - $120K' '$120K +'\n",
            " '$40K - $60K']\n",
            "Card_Category : ['Blue' 'Silver' 'Gold' 'Platinum']\n"
          ],
          "name": "stdout"
        }
      ]
    },
    {
      "cell_type": "code",
      "metadata": {
        "colab": {
          "base_uri": "https://localhost:8080/",
          "height": 167
        },
        "id": "7-Rr42CRVyUW",
        "outputId": "bd4997b2-da5e-45b6-c8ea-9bcfabc4cd79"
      },
      "source": [
        "x_train.describe(include='O')"
      ],
      "execution_count": 478,
      "outputs": [
        {
          "output_type": "execute_result",
          "data": {
            "text/html": [
              "<div>\n",
              "<style scoped>\n",
              "    .dataframe tbody tr th:only-of-type {\n",
              "        vertical-align: middle;\n",
              "    }\n",
              "\n",
              "    .dataframe tbody tr th {\n",
              "        vertical-align: top;\n",
              "    }\n",
              "\n",
              "    .dataframe thead th {\n",
              "        text-align: right;\n",
              "    }\n",
              "</style>\n",
              "<table border=\"1\" class=\"dataframe\">\n",
              "  <thead>\n",
              "    <tr style=\"text-align: right;\">\n",
              "      <th></th>\n",
              "      <th>Gender</th>\n",
              "      <th>Education_Level</th>\n",
              "      <th>Marital_Status</th>\n",
              "      <th>Income_Category</th>\n",
              "      <th>Card_Category</th>\n",
              "    </tr>\n",
              "  </thead>\n",
              "  <tbody>\n",
              "    <tr>\n",
              "      <th>count</th>\n",
              "      <td>7088</td>\n",
              "      <td>7088</td>\n",
              "      <td>7088</td>\n",
              "      <td>7088</td>\n",
              "      <td>7088</td>\n",
              "    </tr>\n",
              "    <tr>\n",
              "      <th>unique</th>\n",
              "      <td>2</td>\n",
              "      <td>7</td>\n",
              "      <td>4</td>\n",
              "      <td>6</td>\n",
              "      <td>4</td>\n",
              "    </tr>\n",
              "    <tr>\n",
              "      <th>top</th>\n",
              "      <td>F</td>\n",
              "      <td>Graduate</td>\n",
              "      <td>Married</td>\n",
              "      <td>Less than $40K</td>\n",
              "      <td>Blue</td>\n",
              "    </tr>\n",
              "    <tr>\n",
              "      <th>freq</th>\n",
              "      <td>3787</td>\n",
              "      <td>2181</td>\n",
              "      <td>3242</td>\n",
              "      <td>2479</td>\n",
              "      <td>6604</td>\n",
              "    </tr>\n",
              "  </tbody>\n",
              "</table>\n",
              "</div>"
            ],
            "text/plain": [
              "       Gender Education_Level Marital_Status Income_Category Card_Category\n",
              "count    7088            7088           7088            7088          7088\n",
              "unique      2               7              4               6             4\n",
              "top         F        Graduate        Married  Less than $40K          Blue\n",
              "freq     3787            2181           3242            2479          6604"
            ]
          },
          "metadata": {
            "tags": []
          },
          "execution_count": 478
        }
      ]
    },
    {
      "cell_type": "code",
      "metadata": {
        "colab": {
          "base_uri": "https://localhost:8080/",
          "height": 307
        },
        "id": "bFXOaJKwWGp-",
        "outputId": "e077abc0-c53c-4276-9303-f8c150cbbdce"
      },
      "source": [
        "x_train.describe()"
      ],
      "execution_count": 479,
      "outputs": [
        {
          "output_type": "execute_result",
          "data": {
            "text/html": [
              "<div>\n",
              "<style scoped>\n",
              "    .dataframe tbody tr th:only-of-type {\n",
              "        vertical-align: middle;\n",
              "    }\n",
              "\n",
              "    .dataframe tbody tr th {\n",
              "        vertical-align: top;\n",
              "    }\n",
              "\n",
              "    .dataframe thead th {\n",
              "        text-align: right;\n",
              "    }\n",
              "</style>\n",
              "<table border=\"1\" class=\"dataframe\">\n",
              "  <thead>\n",
              "    <tr style=\"text-align: right;\">\n",
              "      <th></th>\n",
              "      <th>CLIENTNUM</th>\n",
              "      <th>Customer_Age</th>\n",
              "      <th>Dependent_count</th>\n",
              "      <th>Months_on_book</th>\n",
              "      <th>Total_Relationship_Count</th>\n",
              "      <th>Months_Inactive_12_mon</th>\n",
              "      <th>Contacts_Count_12_mon</th>\n",
              "      <th>Credit_Limit</th>\n",
              "      <th>Total_Revolving_Bal</th>\n",
              "      <th>Avg_Open_To_Buy</th>\n",
              "      <th>Total_Amt_Chng_Q4_Q1</th>\n",
              "      <th>Total_Trans_Amt</th>\n",
              "      <th>Total_Trans_Ct</th>\n",
              "      <th>Total_Ct_Chng_Q4_Q1</th>\n",
              "      <th>Avg_Utilization_Ratio</th>\n",
              "    </tr>\n",
              "  </thead>\n",
              "  <tbody>\n",
              "    <tr>\n",
              "      <th>count</th>\n",
              "      <td>7088.00</td>\n",
              "      <td>7088.00</td>\n",
              "      <td>7088.00</td>\n",
              "      <td>7088.00</td>\n",
              "      <td>7088.00</td>\n",
              "      <td>7088.00</td>\n",
              "      <td>7088.00</td>\n",
              "      <td>7088.00</td>\n",
              "      <td>7088.00</td>\n",
              "      <td>7088.00</td>\n",
              "      <td>7088.00</td>\n",
              "      <td>7088.00</td>\n",
              "      <td>7088.00</td>\n",
              "      <td>7088.00</td>\n",
              "      <td>7088.00</td>\n",
              "    </tr>\n",
              "    <tr>\n",
              "      <th>mean</th>\n",
              "      <td>739005280.37</td>\n",
              "      <td>46.26</td>\n",
              "      <td>2.34</td>\n",
              "      <td>35.91</td>\n",
              "      <td>3.81</td>\n",
              "      <td>2.33</td>\n",
              "      <td>2.46</td>\n",
              "      <td>8577.18</td>\n",
              "      <td>1165.82</td>\n",
              "      <td>7411.36</td>\n",
              "      <td>0.76</td>\n",
              "      <td>4424.06</td>\n",
              "      <td>64.98</td>\n",
              "      <td>0.71</td>\n",
              "      <td>0.28</td>\n",
              "    </tr>\n",
              "    <tr>\n",
              "      <th>std</th>\n",
              "      <td>36802616.57</td>\n",
              "      <td>8.09</td>\n",
              "      <td>1.30</td>\n",
              "      <td>8.00</td>\n",
              "      <td>1.56</td>\n",
              "      <td>1.01</td>\n",
              "      <td>1.10</td>\n",
              "      <td>9083.21</td>\n",
              "      <td>813.29</td>\n",
              "      <td>9083.37</td>\n",
              "      <td>0.22</td>\n",
              "      <td>3407.55</td>\n",
              "      <td>23.61</td>\n",
              "      <td>0.24</td>\n",
              "      <td>0.28</td>\n",
              "    </tr>\n",
              "    <tr>\n",
              "      <th>min</th>\n",
              "      <td>708083283.00</td>\n",
              "      <td>26.00</td>\n",
              "      <td>0.00</td>\n",
              "      <td>13.00</td>\n",
              "      <td>1.00</td>\n",
              "      <td>0.00</td>\n",
              "      <td>0.00</td>\n",
              "      <td>1438.30</td>\n",
              "      <td>0.00</td>\n",
              "      <td>3.00</td>\n",
              "      <td>0.00</td>\n",
              "      <td>510.00</td>\n",
              "      <td>10.00</td>\n",
              "      <td>0.00</td>\n",
              "      <td>0.00</td>\n",
              "    </tr>\n",
              "    <tr>\n",
              "      <th>25%</th>\n",
              "      <td>713029983.00</td>\n",
              "      <td>41.00</td>\n",
              "      <td>1.00</td>\n",
              "      <td>31.00</td>\n",
              "      <td>3.00</td>\n",
              "      <td>2.00</td>\n",
              "      <td>2.00</td>\n",
              "      <td>2544.75</td>\n",
              "      <td>430.50</td>\n",
              "      <td>1295.00</td>\n",
              "      <td>0.63</td>\n",
              "      <td>2165.00</td>\n",
              "      <td>45.00</td>\n",
              "      <td>0.58</td>\n",
              "      <td>0.03</td>\n",
              "    </tr>\n",
              "    <tr>\n",
              "      <th>50%</th>\n",
              "      <td>717859795.50</td>\n",
              "      <td>46.00</td>\n",
              "      <td>2.00</td>\n",
              "      <td>36.00</td>\n",
              "      <td>4.00</td>\n",
              "      <td>2.00</td>\n",
              "      <td>2.00</td>\n",
              "      <td>4479.00</td>\n",
              "      <td>1279.00</td>\n",
              "      <td>3428.00</td>\n",
              "      <td>0.74</td>\n",
              "      <td>3913.00</td>\n",
              "      <td>67.00</td>\n",
              "      <td>0.70</td>\n",
              "      <td>0.18</td>\n",
              "    </tr>\n",
              "    <tr>\n",
              "      <th>75%</th>\n",
              "      <td>772689745.50</td>\n",
              "      <td>52.00</td>\n",
              "      <td>3.00</td>\n",
              "      <td>40.00</td>\n",
              "      <td>5.00</td>\n",
              "      <td>3.00</td>\n",
              "      <td>3.00</td>\n",
              "      <td>10798.50</td>\n",
              "      <td>1787.25</td>\n",
              "      <td>9577.00</td>\n",
              "      <td>0.86</td>\n",
              "      <td>4759.00</td>\n",
              "      <td>81.00</td>\n",
              "      <td>0.82</td>\n",
              "      <td>0.51</td>\n",
              "    </tr>\n",
              "    <tr>\n",
              "      <th>max</th>\n",
              "      <td>828343083.00</td>\n",
              "      <td>73.00</td>\n",
              "      <td>5.00</td>\n",
              "      <td>56.00</td>\n",
              "      <td>6.00</td>\n",
              "      <td>6.00</td>\n",
              "      <td>6.00</td>\n",
              "      <td>34516.00</td>\n",
              "      <td>2517.00</td>\n",
              "      <td>34516.00</td>\n",
              "      <td>3.40</td>\n",
              "      <td>18484.00</td>\n",
              "      <td>138.00</td>\n",
              "      <td>3.71</td>\n",
              "      <td>1.00</td>\n",
              "    </tr>\n",
              "  </tbody>\n",
              "</table>\n",
              "</div>"
            ],
            "text/plain": [
              "         CLIENTNUM  Customer_Age  ...  Total_Ct_Chng_Q4_Q1  Avg_Utilization_Ratio\n",
              "count      7088.00       7088.00  ...              7088.00                7088.00\n",
              "mean  739005280.37         46.26  ...                 0.71                   0.28\n",
              "std    36802616.57          8.09  ...                 0.24                   0.28\n",
              "min   708083283.00         26.00  ...                 0.00                   0.00\n",
              "25%   713029983.00         41.00  ...                 0.58                   0.03\n",
              "50%   717859795.50         46.00  ...                 0.70                   0.18\n",
              "75%   772689745.50         52.00  ...                 0.82                   0.51\n",
              "max   828343083.00         73.00  ...                 3.71                   1.00\n",
              "\n",
              "[8 rows x 15 columns]"
            ]
          },
          "metadata": {
            "tags": []
          },
          "execution_count": 479
        }
      ]
    },
    {
      "cell_type": "markdown",
      "metadata": {
        "id": "xNF_JBjgY0M_"
      },
      "source": [
        "*   In most of the columns mean is greater than the median and there's a huge difference between 75 percentile of the data and the maximum value. Hence outlier is present.\r\n",
        "\r\n",
        "\r\n",
        "\r\n"
      ]
    },
    {
      "cell_type": "code",
      "metadata": {
        "id": "xZXBnkZ8MPE7",
        "colab": {
          "base_uri": "https://localhost:8080/"
        },
        "outputId": "774fb668-2417-4bdc-c076-1aad928631e0"
      },
      "source": [
        "def check_mising_val(dataframe):\r\n",
        "  if(dataframe.isnull().sum().sum()==0):\r\n",
        "    print(\"No missing values\")\r\n",
        "  else:\r\n",
        "    print(dataframe.isnull().sum())\r\n",
        "\r\n",
        "check_mising_val(x_train)\r\n",
        "check_mising_val(y_train)"
      ],
      "execution_count": 480,
      "outputs": [
        {
          "output_type": "stream",
          "text": [
            "No missing values\n",
            "No missing values\n"
          ],
          "name": "stdout"
        }
      ]
    },
    {
      "cell_type": "code",
      "metadata": {
        "id": "6VmcnsmOOVyx",
        "colab": {
          "base_uri": "https://localhost:8080/"
        },
        "outputId": "3b93b5aa-514b-45ab-bf8f-a16839d9b531"
      },
      "source": [
        "def check_imbalance(dataframe):\r\n",
        "  list_elements=dataframe.value_counts().to_list()\r\n",
        "  total=y_train.shape[0]\r\n",
        "  for i in range(0,len(list_elements)):\r\n",
        "    list_elements[i]=((list_elements[i]/total)*100)\r\n",
        "    if (list_elements[i]>((100/len(list_elements))+25)):\r\n",
        "      print(\"Dataset is Imbalanced \\n\")\r\n",
        "      print(dataframe.value_counts())\r\n",
        "      break\r\n",
        "\r\n",
        "check_imbalance(y_train)"
      ],
      "execution_count": 481,
      "outputs": [
        {
          "output_type": "stream",
          "text": [
            "Dataset is Imbalanced \n",
            "\n",
            "Existing Customer    5949\n",
            "Attrited Customer    1139\n",
            "Name: Attrition_Flag, dtype: int64\n"
          ],
          "name": "stdout"
        }
      ]
    },
    {
      "cell_type": "markdown",
      "metadata": {
        "id": "cPGuv8zDZJ3A"
      },
      "source": [
        "Feature Selection"
      ]
    },
    {
      "cell_type": "code",
      "metadata": {
        "colab": {
          "base_uri": "https://localhost:8080/",
          "height": 512
        },
        "id": "UFCFiCZVhEy0",
        "outputId": "381ff355-e688-4ada-c4d0-1a44709f96ac"
      },
      "source": [
        "plt.figure(figsize=(18,6))\r\n",
        "sns.heatmap(x_train.corr(),annot=True)"
      ],
      "execution_count": 482,
      "outputs": [
        {
          "output_type": "execute_result",
          "data": {
            "text/plain": [
              "<matplotlib.axes._subplots.AxesSubplot at 0x7f71ca7dbeb8>"
            ]
          },
          "metadata": {
            "tags": []
          },
          "execution_count": 482
        },
        {
          "output_type": "display_data",
          "data": {
            "image/png": "[encoded data removed]",
            "text/plain": [
              "<Figure size 1296x432 with 2 Axes>"
            ]
          },
          "metadata": {
            "tags": [],
            "needs_background": "light"
          }
        }
      ]
    },
    {
      "cell_type": "markdown",
      "metadata": {
        "id": "oXVtXmXvbtLl"
      },
      "source": [
        "*   Highest positive correlation is between Total_Trans_Amt and Total_Trans_Ct\r\n",
        "*   Next highest positive correlation is between Customer_Age and Months_on_book\r\n",
        "*   Highest negative correlation is between Avg_Utilization_Ratio and Credit_Limit, Avg_Open_To_Buy, Total_Revolving_Bal \r\n"
      ]
    },
    {
      "cell_type": "code",
      "metadata": {
        "colab": {
          "base_uri": "https://localhost:8080/"
        },
        "id": "zTOWqyfXaLGq",
        "outputId": "6ce08e5c-69e6-4038-cb21-6a7f727183c3"
      },
      "source": [
        "from statsmodels.stats.outliers_influence import variance_inflation_factor \r\n",
        "\r\n",
        "# the independent variables set \r\n",
        "XX = x_train[numerical] \r\n",
        "  \r\n",
        "# VIF dataframe \r\n",
        "vif_data = pd.DataFrame() \r\n",
        "vif_data[\"feature\"] = XX.columns \r\n",
        "  \r\n",
        "# calculating VIF for each feature \r\n",
        "vif_data[\"VIF\"] = [variance_inflation_factor(XX.values, i) \r\n",
        "                          for i in range(len(XX.columns))] \r\n",
        "  \r\n",
        "print(vif_data)"
      ],
      "execution_count": 483,
      "outputs": [
        {
          "output_type": "stream",
          "text": [
            "                     feature   VIF\n",
            "0                  CLIENTNUM 78.34\n",
            "1               Customer_Age 83.40\n",
            "2            Dependent_count  4.32\n",
            "3             Months_on_book 56.82\n",
            "4   Total_Relationship_Count  7.91\n",
            "5     Months_Inactive_12_mon  6.36\n",
            "6      Contacts_Count_12_mon  6.16\n",
            "7               Credit_Limit   inf\n",
            "8        Total_Revolving_Bal   inf\n",
            "9            Avg_Open_To_Buy   inf\n",
            "10      Total_Amt_Chng_Q4_Q1 15.01\n",
            "11           Total_Trans_Amt  8.89\n",
            "12            Total_Trans_Ct 25.93\n",
            "13       Total_Ct_Chng_Q4_Q1 12.10\n",
            "14     Avg_Utilization_Ratio  5.82\n"
          ],
          "name": "stdout"
        }
      ]
    },
    {
      "cell_type": "markdown",
      "metadata": {
        "id": "G7Ts--YPo9T_"
      },
      "source": [
        "*   We can drop the below columns:- \r\n",
        "*   CLIENTNUM, Customer_Age, Credit_Limit, Total_Revolving_Bal, Avg_Open_To_Buy, Total_Trans_Ct\r\n",
        "  \r\n",
        "\r\n"
      ]
    },
    {
      "cell_type": "code",
      "metadata": {
        "id": "Lj3GgSpVw0ru"
      },
      "source": [
        "x_train=x_train.drop([\"CLIENTNUM\",\"Customer_Age\",\"Credit_Limit\",\"Total_Revolving_Bal\",\"Avg_Open_To_Buy\",\"Total_Trans_Ct\"],axis=1)\r\n",
        "x_test=x_test.drop([\"CLIENTNUM\",\"Customer_Age\",\"Credit_Limit\",\"Total_Revolving_Bal\",\"Avg_Open_To_Buy\",\"Total_Trans_Ct\"],axis=1)"
      ],
      "execution_count": 484,
      "outputs": []
    },
    {
      "cell_type": "code",
      "metadata": {
        "colab": {
          "base_uri": "https://localhost:8080/"
        },
        "id": "zGgv_k3_BdIv",
        "outputId": "0829536f-3f74-437f-ce8c-4a31a0813333"
      },
      "source": [
        "print(x_train.shape,x_test.shape)"
      ],
      "execution_count": 485,
      "outputs": [
        {
          "output_type": "stream",
          "text": [
            "(7088, 14) (3039, 14)\n"
          ],
          "name": "stdout"
        }
      ]
    },
    {
      "cell_type": "code",
      "metadata": {
        "colab": {
          "base_uri": "https://localhost:8080/",
          "height": 512
        },
        "id": "tcGnHqQjuINB",
        "outputId": "34665993-a716-4960-c9f1-d2a4229de396"
      },
      "source": [
        "num=['Dependent_count', 'Months_on_book', 'Total_Relationship_Count', 'Months_Inactive_12_mon', 'Contacts_Count_12_mon', 'Total_Amt_Chng_Q4_Q1', 'Total_Trans_Amt', 'Total_Ct_Chng_Q4_Q1', 'Avg_Utilization_Ratio']\r\n",
        "plt.figure(figsize=(18,6))\r\n",
        "sns.heatmap(x_train[num].corr(),annot=True)"
      ],
      "execution_count": 486,
      "outputs": [
        {
          "output_type": "execute_result",
          "data": {
            "text/plain": [
              "<matplotlib.axes._subplots.AxesSubplot at 0x7f71c9ec6cc0>"
            ]
          },
          "metadata": {
            "tags": []
          },
          "execution_count": 486
        },
        {
          "output_type": "display_data",
          "data": {
            "image/png": "[encoded data removed]",
            "text/plain": [
              "<Figure size 1296x432 with 2 Axes>"
            ]
          },
          "metadata": {
            "tags": [],
            "needs_background": "light"
          }
        }
      ]
    },
    {
      "cell_type": "markdown",
      "metadata": {
        "id": "sJbBTUsdz3Mp"
      },
      "source": [
        "Feature Engineering\r\n",
        "\r\n",
        "---\r\n",
        "\r\n",
        "---\r\n",
        "\r\n",
        "\r\n",
        "\r\n"
      ]
    },
    {
      "cell_type": "code",
      "metadata": {
        "colab": {
          "base_uri": "https://localhost:8080/",
          "height": 217
        },
        "id": "co9yzGOz1i1O",
        "outputId": "b7862620-c7e1-4851-db26-51275253da56"
      },
      "source": [
        "x_train[num].head()"
      ],
      "execution_count": 487,
      "outputs": [
        {
          "output_type": "execute_result",
          "data": {
            "text/html": [
              "<div>\n",
              "<style scoped>\n",
              "    .dataframe tbody tr th:only-of-type {\n",
              "        vertical-align: middle;\n",
              "    }\n",
              "\n",
              "    .dataframe tbody tr th {\n",
              "        vertical-align: top;\n",
              "    }\n",
              "\n",
              "    .dataframe thead th {\n",
              "        text-align: right;\n",
              "    }\n",
              "</style>\n",
              "<table border=\"1\" class=\"dataframe\">\n",
              "  <thead>\n",
              "    <tr style=\"text-align: right;\">\n",
              "      <th></th>\n",
              "      <th>Dependent_count</th>\n",
              "      <th>Months_on_book</th>\n",
              "      <th>Total_Relationship_Count</th>\n",
              "      <th>Months_Inactive_12_mon</th>\n",
              "      <th>Contacts_Count_12_mon</th>\n",
              "      <th>Total_Amt_Chng_Q4_Q1</th>\n",
              "      <th>Total_Trans_Amt</th>\n",
              "      <th>Total_Ct_Chng_Q4_Q1</th>\n",
              "      <th>Avg_Utilization_Ratio</th>\n",
              "    </tr>\n",
              "  </thead>\n",
              "  <tbody>\n",
              "    <tr>\n",
              "      <th>9342</th>\n",
              "      <td>3</td>\n",
              "      <td>34</td>\n",
              "      <td>2</td>\n",
              "      <td>2</td>\n",
              "      <td>2</td>\n",
              "      <td>0.86</td>\n",
              "      <td>12739</td>\n",
              "      <td>0.88</td>\n",
              "      <td>0.00</td>\n",
              "    </tr>\n",
              "    <tr>\n",
              "      <th>301</th>\n",
              "      <td>2</td>\n",
              "      <td>36</td>\n",
              "      <td>5</td>\n",
              "      <td>3</td>\n",
              "      <td>2</td>\n",
              "      <td>0.87</td>\n",
              "      <td>1338</td>\n",
              "      <td>1.31</td>\n",
              "      <td>0.60</td>\n",
              "    </tr>\n",
              "    <tr>\n",
              "      <th>3643</th>\n",
              "      <td>3</td>\n",
              "      <td>38</td>\n",
              "      <td>4</td>\n",
              "      <td>6</td>\n",
              "      <td>4</td>\n",
              "      <td>0.47</td>\n",
              "      <td>3609</td>\n",
              "      <td>0.55</td>\n",
              "      <td>0.05</td>\n",
              "    </tr>\n",
              "    <tr>\n",
              "      <th>956</th>\n",
              "      <td>3</td>\n",
              "      <td>36</td>\n",
              "      <td>5</td>\n",
              "      <td>3</td>\n",
              "      <td>2</td>\n",
              "      <td>0.91</td>\n",
              "      <td>1665</td>\n",
              "      <td>0.80</td>\n",
              "      <td>0.09</td>\n",
              "    </tr>\n",
              "    <tr>\n",
              "      <th>7141</th>\n",
              "      <td>2</td>\n",
              "      <td>30</td>\n",
              "      <td>6</td>\n",
              "      <td>3</td>\n",
              "      <td>1</td>\n",
              "      <td>0.89</td>\n",
              "      <td>4277</td>\n",
              "      <td>0.85</td>\n",
              "      <td>0.08</td>\n",
              "    </tr>\n",
              "  </tbody>\n",
              "</table>\n",
              "</div>"
            ],
            "text/plain": [
              "      Dependent_count  ...  Avg_Utilization_Ratio\n",
              "9342                3  ...                   0.00\n",
              "301                 2  ...                   0.60\n",
              "3643                3  ...                   0.05\n",
              "956                 3  ...                   0.09\n",
              "7141                2  ...                   0.08\n",
              "\n",
              "[5 rows x 9 columns]"
            ]
          },
          "metadata": {
            "tags": []
          },
          "execution_count": 487
        }
      ]
    },
    {
      "cell_type": "code",
      "metadata": {
        "colab": {
          "base_uri": "https://localhost:8080/",
          "height": 446
        },
        "id": "LE-k8IILB072",
        "outputId": "d9c6be87-7f41-401b-ccd5-d207039fc510"
      },
      "source": [
        "plt.figure(figsize=(20,7))\r\n",
        "x_train[num].boxplot()"
      ],
      "execution_count": 488,
      "outputs": [
        {
          "output_type": "execute_result",
          "data": {
            "text/plain": [
              "<matplotlib.axes._subplots.AxesSubplot at 0x7f71c9603f28>"
            ]
          },
          "metadata": {
            "tags": []
          },
          "execution_count": 488
        },
        {
          "output_type": "display_data",
          "data": {
            "image/png": "[encoded data removed]",
            "text/plain": [
              "<Figure size 1440x504 with 1 Axes>"
            ]
          },
          "metadata": {
            "tags": [],
            "needs_background": "light"
          }
        }
      ]
    },
    {
      "cell_type": "markdown",
      "metadata": {
        "id": "Aps0ro3PxHIX"
      },
      "source": [
        "*   MinMaxScaler"
      ]
    },
    {
      "cell_type": "code",
      "metadata": {
        "id": "26v8ss8y3twG"
      },
      "source": [
        "from sklearn.preprocessing import MinMaxScaler\r\n",
        "mm=MinMaxScaler()\r\n",
        "x_train[num]=mm.fit_transform(x_train[num])\r\n",
        "x_test[num]=mm.transform(x_test[num])"
      ],
      "execution_count": 489,
      "outputs": []
    },
    {
      "cell_type": "code",
      "metadata": {
        "colab": {
          "base_uri": "https://localhost:8080/",
          "height": 446
        },
        "id": "ZXFkck1Y4Ucd",
        "outputId": "48effee1-f984-44a8-a2fa-02240a3c439e"
      },
      "source": [
        "plt.figure(figsize=(20,7))\r\n",
        "x_train[num].boxplot()"
      ],
      "execution_count": 490,
      "outputs": [
        {
          "output_type": "execute_result",
          "data": {
            "text/plain": [
              "<matplotlib.axes._subplots.AxesSubplot at 0x7f71c91e9cf8>"
            ]
          },
          "metadata": {
            "tags": []
          },
          "execution_count": 490
        },
        {
          "output_type": "display_data",
          "data": {
            "image/png": "[encoded data removed]",
            "text/plain": [
              "<Figure size 1440x504 with 1 Axes>"
            ]
          },
          "metadata": {
            "tags": [],
            "needs_background": "light"
          }
        }
      ]
    },
    {
      "cell_type": "markdown",
      "metadata": {
        "id": "v8NYLcD04ZGU"
      },
      "source": [
        "*   Categorical Encoding"
      ]
    },
    {
      "cell_type": "code",
      "metadata": {
        "id": "StmoRFhn6JIv"
      },
      "source": [
        "from sklearn.preprocessing import LabelEncoder\r\n",
        "lr=LabelEncoder()\r\n",
        "y_train=pd.DataFrame(lr.fit_transform(y_train),columns=[\"Attrition_Flag\"])\r\n",
        "y_test=pd.DataFrame(lr.transform(y_test),columns=[\"Attrition_Flag\"])\r\n"
      ],
      "execution_count": 492,
      "outputs": []
    },
    {
      "cell_type": "code",
      "metadata": {
        "colab": {
          "base_uri": "https://localhost:8080/",
          "height": 137
        },
        "id": "dF43crwGXVNm",
        "outputId": "6396ca2b-0ce2-4353-be86-151254698b34"
      },
      "source": [
        "y_train.head(3)"
      ],
      "execution_count": 493,
      "outputs": [
        {
          "output_type": "execute_result",
          "data": {
            "text/html": [
              "<div>\n",
              "<style scoped>\n",
              "    .dataframe tbody tr th:only-of-type {\n",
              "        vertical-align: middle;\n",
              "    }\n",
              "\n",
              "    .dataframe tbody tr th {\n",
              "        vertical-align: top;\n",
              "    }\n",
              "\n",
              "    .dataframe thead th {\n",
              "        text-align: right;\n",
              "    }\n",
              "</style>\n",
              "<table border=\"1\" class=\"dataframe\">\n",
              "  <thead>\n",
              "    <tr style=\"text-align: right;\">\n",
              "      <th></th>\n",
              "      <th>Attrition_Flag</th>\n",
              "    </tr>\n",
              "  </thead>\n",
              "  <tbody>\n",
              "    <tr>\n",
              "      <th>0</th>\n",
              "      <td>1</td>\n",
              "    </tr>\n",
              "    <tr>\n",
              "      <th>1</th>\n",
              "      <td>1</td>\n",
              "    </tr>\n",
              "    <tr>\n",
              "      <th>2</th>\n",
              "      <td>1</td>\n",
              "    </tr>\n",
              "  </tbody>\n",
              "</table>\n",
              "</div>"
            ],
            "text/plain": [
              "   Attrition_Flag\n",
              "0               1\n",
              "1               1\n",
              "2               1"
            ]
          },
          "metadata": {
            "tags": []
          },
          "execution_count": 493
        }
      ]
    },
    {
      "cell_type": "code",
      "metadata": {
        "id": "6JSzbdLHA1EI",
        "colab": {
          "base_uri": "https://localhost:8080/"
        },
        "outputId": "09f31ec3-53c0-4877-b302-b7146131bbcb"
      },
      "source": [
        "x_train_dummy=pd.get_dummies(x_train,columns=categorical)\r\n",
        "x_test_dummy=pd.get_dummies(x_test,columns=categorical)\r\n",
        "x_train_dummy.shape"
      ],
      "execution_count": 494,
      "outputs": [
        {
          "output_type": "execute_result",
          "data": {
            "text/plain": [
              "(7088, 32)"
            ]
          },
          "metadata": {
            "tags": []
          },
          "execution_count": 494
        }
      ]
    },
    {
      "cell_type": "code",
      "metadata": {
        "colab": {
          "base_uri": "https://localhost:8080/",
          "height": 174
        },
        "id": "ezAA1znuE6c_",
        "outputId": "4063c5a5-e680-445e-cc18-b198393e7663"
      },
      "source": [
        "x_train_dummy.head(3)"
      ],
      "execution_count": 495,
      "outputs": [
        {
          "output_type": "execute_result",
          "data": {
            "text/html": [
              "<div>\n",
              "<style scoped>\n",
              "    .dataframe tbody tr th:only-of-type {\n",
              "        vertical-align: middle;\n",
              "    }\n",
              "\n",
              "    .dataframe tbody tr th {\n",
              "        vertical-align: top;\n",
              "    }\n",
              "\n",
              "    .dataframe thead th {\n",
              "        text-align: right;\n",
              "    }\n",
              "</style>\n",
              "<table border=\"1\" class=\"dataframe\">\n",
              "  <thead>\n",
              "    <tr style=\"text-align: right;\">\n",
              "      <th></th>\n",
              "      <th>Dependent_count</th>\n",
              "      <th>Months_on_book</th>\n",
              "      <th>Total_Relationship_Count</th>\n",
              "      <th>Months_Inactive_12_mon</th>\n",
              "      <th>Contacts_Count_12_mon</th>\n",
              "      <th>Total_Amt_Chng_Q4_Q1</th>\n",
              "      <th>Total_Trans_Amt</th>\n",
              "      <th>Total_Ct_Chng_Q4_Q1</th>\n",
              "      <th>Avg_Utilization_Ratio</th>\n",
              "      <th>Gender_F</th>\n",
              "      <th>Gender_M</th>\n",
              "      <th>Education_Level_College</th>\n",
              "      <th>Education_Level_Doctorate</th>\n",
              "      <th>Education_Level_Graduate</th>\n",
              "      <th>Education_Level_High School</th>\n",
              "      <th>Education_Level_Post-Graduate</th>\n",
              "      <th>Education_Level_Uneducated</th>\n",
              "      <th>Education_Level_Unknown</th>\n",
              "      <th>Marital_Status_Divorced</th>\n",
              "      <th>Marital_Status_Married</th>\n",
              "      <th>Marital_Status_Single</th>\n",
              "      <th>Marital_Status_Unknown</th>\n",
              "      <th>Income_Category_$120K +</th>\n",
              "      <th>Income_Category_$40K - $60K</th>\n",
              "      <th>Income_Category_$60K - $80K</th>\n",
              "      <th>Income_Category_$80K - $120K</th>\n",
              "      <th>Income_Category_Less than $40K</th>\n",
              "      <th>Income_Category_Unknown</th>\n",
              "      <th>Card_Category_Blue</th>\n",
              "      <th>Card_Category_Gold</th>\n",
              "      <th>Card_Category_Platinum</th>\n",
              "      <th>Card_Category_Silver</th>\n",
              "    </tr>\n",
              "  </thead>\n",
              "  <tbody>\n",
              "    <tr>\n",
              "      <th>9342</th>\n",
              "      <td>0.60</td>\n",
              "      <td>0.49</td>\n",
              "      <td>0.20</td>\n",
              "      <td>0.33</td>\n",
              "      <td>0.33</td>\n",
              "      <td>0.25</td>\n",
              "      <td>0.68</td>\n",
              "      <td>0.24</td>\n",
              "      <td>0.00</td>\n",
              "      <td>1</td>\n",
              "      <td>0</td>\n",
              "      <td>0</td>\n",
              "      <td>0</td>\n",
              "      <td>0</td>\n",
              "      <td>1</td>\n",
              "      <td>0</td>\n",
              "      <td>0</td>\n",
              "      <td>0</td>\n",
              "      <td>0</td>\n",
              "      <td>0</td>\n",
              "      <td>1</td>\n",
              "      <td>0</td>\n",
              "      <td>0</td>\n",
              "      <td>0</td>\n",
              "      <td>0</td>\n",
              "      <td>0</td>\n",
              "      <td>1</td>\n",
              "      <td>0</td>\n",
              "      <td>1</td>\n",
              "      <td>0</td>\n",
              "      <td>0</td>\n",
              "      <td>0</td>\n",
              "    </tr>\n",
              "    <tr>\n",
              "      <th>301</th>\n",
              "      <td>0.40</td>\n",
              "      <td>0.53</td>\n",
              "      <td>0.80</td>\n",
              "      <td>0.50</td>\n",
              "      <td>0.33</td>\n",
              "      <td>0.26</td>\n",
              "      <td>0.05</td>\n",
              "      <td>0.35</td>\n",
              "      <td>0.61</td>\n",
              "      <td>0</td>\n",
              "      <td>1</td>\n",
              "      <td>0</td>\n",
              "      <td>0</td>\n",
              "      <td>0</td>\n",
              "      <td>0</td>\n",
              "      <td>0</td>\n",
              "      <td>1</td>\n",
              "      <td>0</td>\n",
              "      <td>0</td>\n",
              "      <td>1</td>\n",
              "      <td>0</td>\n",
              "      <td>0</td>\n",
              "      <td>0</td>\n",
              "      <td>0</td>\n",
              "      <td>1</td>\n",
              "      <td>0</td>\n",
              "      <td>0</td>\n",
              "      <td>0</td>\n",
              "      <td>1</td>\n",
              "      <td>0</td>\n",
              "      <td>0</td>\n",
              "      <td>0</td>\n",
              "    </tr>\n",
              "    <tr>\n",
              "      <th>3643</th>\n",
              "      <td>0.60</td>\n",
              "      <td>0.58</td>\n",
              "      <td>0.60</td>\n",
              "      <td>1.00</td>\n",
              "      <td>0.67</td>\n",
              "      <td>0.14</td>\n",
              "      <td>0.17</td>\n",
              "      <td>0.15</td>\n",
              "      <td>0.05</td>\n",
              "      <td>1</td>\n",
              "      <td>0</td>\n",
              "      <td>0</td>\n",
              "      <td>0</td>\n",
              "      <td>0</td>\n",
              "      <td>1</td>\n",
              "      <td>0</td>\n",
              "      <td>0</td>\n",
              "      <td>0</td>\n",
              "      <td>0</td>\n",
              "      <td>1</td>\n",
              "      <td>0</td>\n",
              "      <td>0</td>\n",
              "      <td>0</td>\n",
              "      <td>0</td>\n",
              "      <td>0</td>\n",
              "      <td>0</td>\n",
              "      <td>0</td>\n",
              "      <td>1</td>\n",
              "      <td>1</td>\n",
              "      <td>0</td>\n",
              "      <td>0</td>\n",
              "      <td>0</td>\n",
              "    </tr>\n",
              "  </tbody>\n",
              "</table>\n",
              "</div>"
            ],
            "text/plain": [
              "      Dependent_count  ...  Card_Category_Silver\n",
              "9342             0.60  ...                     0\n",
              "301              0.40  ...                     0\n",
              "3643             0.60  ...                     0\n",
              "\n",
              "[3 rows x 32 columns]"
            ]
          },
          "metadata": {
            "tags": []
          },
          "execution_count": 495
        }
      ]
    },
    {
      "cell_type": "code",
      "metadata": {
        "colab": {
          "base_uri": "https://localhost:8080/",
          "height": 174
        },
        "id": "6SbusDXxar_l",
        "outputId": "16754dae-7022-43ab-f0be-c4a1dee0c69a"
      },
      "source": [
        "x_test_dummy.head(3)"
      ],
      "execution_count": 496,
      "outputs": [
        {
          "output_type": "execute_result",
          "data": {
            "text/html": [
              "<div>\n",
              "<style scoped>\n",
              "    .dataframe tbody tr th:only-of-type {\n",
              "        vertical-align: middle;\n",
              "    }\n",
              "\n",
              "    .dataframe tbody tr th {\n",
              "        vertical-align: top;\n",
              "    }\n",
              "\n",
              "    .dataframe thead th {\n",
              "        text-align: right;\n",
              "    }\n",
              "</style>\n",
              "<table border=\"1\" class=\"dataframe\">\n",
              "  <thead>\n",
              "    <tr style=\"text-align: right;\">\n",
              "      <th></th>\n",
              "      <th>Dependent_count</th>\n",
              "      <th>Months_on_book</th>\n",
              "      <th>Total_Relationship_Count</th>\n",
              "      <th>Months_Inactive_12_mon</th>\n",
              "      <th>Contacts_Count_12_mon</th>\n",
              "      <th>Total_Amt_Chng_Q4_Q1</th>\n",
              "      <th>Total_Trans_Amt</th>\n",
              "      <th>Total_Ct_Chng_Q4_Q1</th>\n",
              "      <th>Avg_Utilization_Ratio</th>\n",
              "      <th>Gender_F</th>\n",
              "      <th>Gender_M</th>\n",
              "      <th>Education_Level_College</th>\n",
              "      <th>Education_Level_Doctorate</th>\n",
              "      <th>Education_Level_Graduate</th>\n",
              "      <th>Education_Level_High School</th>\n",
              "      <th>Education_Level_Post-Graduate</th>\n",
              "      <th>Education_Level_Uneducated</th>\n",
              "      <th>Education_Level_Unknown</th>\n",
              "      <th>Marital_Status_Divorced</th>\n",
              "      <th>Marital_Status_Married</th>\n",
              "      <th>Marital_Status_Single</th>\n",
              "      <th>Marital_Status_Unknown</th>\n",
              "      <th>Income_Category_$120K +</th>\n",
              "      <th>Income_Category_$40K - $60K</th>\n",
              "      <th>Income_Category_$60K - $80K</th>\n",
              "      <th>Income_Category_$80K - $120K</th>\n",
              "      <th>Income_Category_Less than $40K</th>\n",
              "      <th>Income_Category_Unknown</th>\n",
              "      <th>Card_Category_Blue</th>\n",
              "      <th>Card_Category_Gold</th>\n",
              "      <th>Card_Category_Platinum</th>\n",
              "      <th>Card_Category_Silver</th>\n",
              "    </tr>\n",
              "  </thead>\n",
              "  <tbody>\n",
              "    <tr>\n",
              "      <th>756</th>\n",
              "      <td>0.20</td>\n",
              "      <td>0.28</td>\n",
              "      <td>1.00</td>\n",
              "      <td>0.50</td>\n",
              "      <td>0.50</td>\n",
              "      <td>0.27</td>\n",
              "      <td>0.08</td>\n",
              "      <td>0.18</td>\n",
              "      <td>0.00</td>\n",
              "      <td>1</td>\n",
              "      <td>0</td>\n",
              "      <td>1</td>\n",
              "      <td>0</td>\n",
              "      <td>0</td>\n",
              "      <td>0</td>\n",
              "      <td>0</td>\n",
              "      <td>0</td>\n",
              "      <td>0</td>\n",
              "      <td>0</td>\n",
              "      <td>0</td>\n",
              "      <td>1</td>\n",
              "      <td>0</td>\n",
              "      <td>0</td>\n",
              "      <td>1</td>\n",
              "      <td>0</td>\n",
              "      <td>0</td>\n",
              "      <td>0</td>\n",
              "      <td>0</td>\n",
              "      <td>1</td>\n",
              "      <td>0</td>\n",
              "      <td>0</td>\n",
              "      <td>0</td>\n",
              "    </tr>\n",
              "    <tr>\n",
              "      <th>2321</th>\n",
              "      <td>0.40</td>\n",
              "      <td>0.19</td>\n",
              "      <td>0.60</td>\n",
              "      <td>0.17</td>\n",
              "      <td>0.83</td>\n",
              "      <td>0.48</td>\n",
              "      <td>0.12</td>\n",
              "      <td>0.25</td>\n",
              "      <td>0.20</td>\n",
              "      <td>0</td>\n",
              "      <td>1</td>\n",
              "      <td>0</td>\n",
              "      <td>0</td>\n",
              "      <td>0</td>\n",
              "      <td>0</td>\n",
              "      <td>0</td>\n",
              "      <td>1</td>\n",
              "      <td>0</td>\n",
              "      <td>0</td>\n",
              "      <td>1</td>\n",
              "      <td>0</td>\n",
              "      <td>0</td>\n",
              "      <td>0</td>\n",
              "      <td>0</td>\n",
              "      <td>1</td>\n",
              "      <td>0</td>\n",
              "      <td>0</td>\n",
              "      <td>0</td>\n",
              "      <td>1</td>\n",
              "      <td>0</td>\n",
              "      <td>0</td>\n",
              "      <td>0</td>\n",
              "    </tr>\n",
              "    <tr>\n",
              "      <th>1215</th>\n",
              "      <td>0.00</td>\n",
              "      <td>0.53</td>\n",
              "      <td>0.40</td>\n",
              "      <td>0.17</td>\n",
              "      <td>0.50</td>\n",
              "      <td>0.12</td>\n",
              "      <td>0.06</td>\n",
              "      <td>0.13</td>\n",
              "      <td>0.13</td>\n",
              "      <td>1</td>\n",
              "      <td>0</td>\n",
              "      <td>0</td>\n",
              "      <td>0</td>\n",
              "      <td>1</td>\n",
              "      <td>0</td>\n",
              "      <td>0</td>\n",
              "      <td>0</td>\n",
              "      <td>0</td>\n",
              "      <td>0</td>\n",
              "      <td>1</td>\n",
              "      <td>0</td>\n",
              "      <td>0</td>\n",
              "      <td>0</td>\n",
              "      <td>0</td>\n",
              "      <td>0</td>\n",
              "      <td>0</td>\n",
              "      <td>0</td>\n",
              "      <td>1</td>\n",
              "      <td>1</td>\n",
              "      <td>0</td>\n",
              "      <td>0</td>\n",
              "      <td>0</td>\n",
              "    </tr>\n",
              "  </tbody>\n",
              "</table>\n",
              "</div>"
            ],
            "text/plain": [
              "      Dependent_count  ...  Card_Category_Silver\n",
              "756              0.20  ...                     0\n",
              "2321             0.40  ...                     0\n",
              "1215             0.00  ...                     0\n",
              "\n",
              "[3 rows x 32 columns]"
            ]
          },
          "metadata": {
            "tags": []
          },
          "execution_count": 496
        }
      ]
    },
    {
      "cell_type": "markdown",
      "metadata": {
        "id": "p02wfY6PcwIQ"
      },
      "source": [
        "Ensemble Model for Imbalanced Dataset\r\n",
        "\r\n",
        "---\r\n",
        "\r\n",
        "---\r\n",
        "\r\n",
        "\r\n",
        "\r\n"
      ]
    },
    {
      "cell_type": "code",
      "metadata": {
        "colab": {
          "base_uri": "https://localhost:8080/",
          "height": 1000
        },
        "id": "Tay3zxkGt0Le",
        "outputId": "6a284950-bd43-438d-f720-8cca39a37c9c"
      },
      "source": [
        "from xgboost import XGBClassifier\r\n",
        "from sklearn.ensemble import AdaBoostClassifier\r\n",
        "from sklearn.ensemble import RandomForestClassifier\r\n",
        "from sklearn.naive_bayes import GaussianNB\r\n",
        "from sklearn.svm import SVC\r\n",
        "\r\n",
        "from sklearn.metrics import classification_report,confusion_matrix\r\n",
        "\r\n",
        "models=[XGBClassifier(),AdaBoostClassifier(),RandomForestClassifier(n_estimators=110,class_weight='balanced'),GaussianNB(),SVC()]\r\n",
        "for i in models:\r\n",
        "  print(\"****{}****\".format(i))\r\n",
        "  i.fit(x_train_dummy, y_train)\r\n",
        "  pred=i.predict(x_test_dummy)\r\n",
        "  cnf_matrix=confusion_matrix(y_test,pred)\r\n",
        "  sns.heatmap(cnf_matrix,annot=True, fmt='', cmap='Blues')\r\n",
        "  plt.xlabel('Predicted')\r\n",
        "  plt.ylabel('Actual')\r\n",
        "  plt.show()\r\n",
        "  print(classification_report(y_test,pred))"
      ],
      "execution_count": 497,
      "outputs": [
        {
          "output_type": "stream",
          "text": [
            "****XGBClassifier(base_score=0.5, booster='gbtree', colsample_bylevel=1,\n",
            "              colsample_bynode=1, colsample_bytree=1, gamma=0,\n",
            "              learning_rate=0.1, max_delta_step=0, max_depth=3,\n",
            "              min_child_weight=1, missing=None, n_estimators=100, n_jobs=1,\n",
            "              nthread=None, objective='binary:logistic', random_state=0,\n",
            "              reg_alpha=0, reg_lambda=1, scale_pos_weight=1, seed=None,\n",
            "              silent=None, subsample=1, verbosity=1)****\n"
          ],
          "name": "stdout"
        },
        {
          "output_type": "display_data",
          "data": {
            "image/png": "[encoded data removed]",
            "text/plain": [
              "<Figure size 432x288 with 2 Axes>"
            ]
          },
          "metadata": {
            "tags": [],
            "needs_background": "light"
          }
        },
        {
          "output_type": "stream",
          "text": [
            "              precision    recall  f1-score   support\n",
            "\n",
            "           0       0.90      0.73      0.80       488\n",
            "           1       0.95      0.98      0.97      2551\n",
            "\n",
            "    accuracy                           0.94      3039\n",
            "   macro avg       0.92      0.85      0.88      3039\n",
            "weighted avg       0.94      0.94      0.94      3039\n",
            "\n",
            "****AdaBoostClassifier(algorithm='SAMME.R', base_estimator=None, learning_rate=1.0,\n",
            "                   n_estimators=50, random_state=None)****\n"
          ],
          "name": "stdout"
        },
        {
          "output_type": "display_data",
          "data": {
            "image/png": "[encoded data removed]",
            "text/plain": [
              "<Figure size 432x288 with 2 Axes>"
            ]
          },
          "metadata": {
            "tags": [],
            "needs_background": "light"
          }
        },
        {
          "output_type": "stream",
          "text": [
            "              precision    recall  f1-score   support\n",
            "\n",
            "           0       0.80      0.71      0.75       488\n",
            "           1       0.95      0.97      0.96      2551\n",
            "\n",
            "    accuracy                           0.92      3039\n",
            "   macro avg       0.87      0.84      0.85      3039\n",
            "weighted avg       0.92      0.92      0.92      3039\n",
            "\n",
            "****RandomForestClassifier(bootstrap=True, ccp_alpha=0.0, class_weight='balanced',\n",
            "                       criterion='gini', max_depth=None, max_features='auto',\n",
            "                       max_leaf_nodes=None, max_samples=None,\n",
            "                       min_impurity_decrease=0.0, min_impurity_split=None,\n",
            "                       min_samples_leaf=1, min_samples_split=2,\n",
            "                       min_weight_fraction_leaf=0.0, n_estimators=110,\n",
            "                       n_jobs=None, oob_score=False, random_state=None,\n",
            "                       verbose=0, warm_start=False)****\n"
          ],
          "name": "stdout"
        },
        {
          "output_type": "display_data",
          "data": {
            "image/png": "[encoded data removed]",
            "text/plain": [
              "<Figure size 432x288 with 2 Axes>"
            ]
          },
          "metadata": {
            "tags": [],
            "needs_background": "light"
          }
        },
        {
          "output_type": "stream",
          "text": [
            "              precision    recall  f1-score   support\n",
            "\n",
            "           0       0.90      0.66      0.76       488\n",
            "           1       0.94      0.99      0.96      2551\n",
            "\n",
            "    accuracy                           0.93      3039\n",
            "   macro avg       0.92      0.82      0.86      3039\n",
            "weighted avg       0.93      0.93      0.93      3039\n",
            "\n",
            "****GaussianNB(priors=None, var_smoothing=1e-09)****\n"
          ],
          "name": "stdout"
        },
        {
          "output_type": "display_data",
          "data": {
            "image/png": "[encoded data removed]",
            "text/plain": [
              "<Figure size 432x288 with 2 Axes>"
            ]
          },
          "metadata": {
            "tags": [],
            "needs_background": "light"
          }
        },
        {
          "output_type": "stream",
          "text": [
            "              precision    recall  f1-score   support\n",
            "\n",
            "           0       0.52      0.40      0.45       488\n",
            "           1       0.89      0.93      0.91      2551\n",
            "\n",
            "    accuracy                           0.84      3039\n",
            "   macro avg       0.70      0.66      0.68      3039\n",
            "weighted avg       0.83      0.84      0.84      3039\n",
            "\n",
            "****SVC(C=1.0, break_ties=False, cache_size=200, class_weight=None, coef0=0.0,\n",
            "    decision_function_shape='ovr', degree=3, gamma='scale', kernel='rbf',\n",
            "    max_iter=-1, probability=False, random_state=None, shrinking=True,\n",
            "    tol=0.001, verbose=False)****\n"
          ],
          "name": "stdout"
        },
        {
          "output_type": "display_data",
          "data": {
            "image/png": "[encoded data removed]",
            "text/plain": [
              "<Figure size 432x288 with 2 Axes>"
            ]
          },
          "metadata": {
            "tags": [],
            "needs_background": "light"
          }
        },
        {
          "output_type": "stream",
          "text": [
            "              precision    recall  f1-score   support\n",
            "\n",
            "           0       0.96      0.16      0.27       488\n",
            "           1       0.86      1.00      0.92      2551\n",
            "\n",
            "    accuracy                           0.86      3039\n",
            "   macro avg       0.91      0.58      0.60      3039\n",
            "weighted avg       0.88      0.86      0.82      3039\n",
            "\n"
          ],
          "name": "stdout"
        }
      ]
    },
    {
      "cell_type": "markdown",
      "metadata": {
        "id": "wjBDRySfu4I3"
      },
      "source": [
        "\r\n",
        "\r\n",
        "*   From the above result, it's clearly visible that XGBClassifier is better in predicting the customers who are likely to churn with an F1 score of 80% and recall of 73%.\r\n",
        "*   The second best is RandomForestClassifier with F1 score of 76% and recall of 66%\r\n",
        "\r\n",
        "\r\n",
        "\r\n"
      ]
    },
    {
      "cell_type": "markdown",
      "metadata": {
        "id": "2xVy0vP0YJNf"
      },
      "source": [
        "SMOTE-NC for imbalanced dataset\r\n",
        "\r\n",
        "---\r\n",
        "\r\n"
      ]
    },
    {
      "cell_type": "code",
      "metadata": {
        "colab": {
          "base_uri": "https://localhost:8080/"
        },
        "id": "fNBX0oTZfyM9",
        "outputId": "b49bcc4e-7b4c-4e1e-f999-c0a2e851f7a5"
      },
      "source": [
        "x_train_dummy.info()"
      ],
      "execution_count": 498,
      "outputs": [
        {
          "output_type": "stream",
          "text": [
            "<class 'pandas.core.frame.DataFrame'>\n",
            "Int64Index: 7088 entries, 9342 to 5612\n",
            "Data columns (total 32 columns):\n",
            " #   Column                          Non-Null Count  Dtype  \n",
            "---  ------                          --------------  -----  \n",
            " 0   Dependent_count                 7088 non-null   float64\n",
            " 1   Months_on_book                  7088 non-null   float64\n",
            " 2   Total_Relationship_Count        7088 non-null   float64\n",
            " 3   Months_Inactive_12_mon          7088 non-null   float64\n",
            " 4   Contacts_Count_12_mon           7088 non-null   float64\n",
            " 5   Total_Amt_Chng_Q4_Q1            7088 non-null   float64\n",
            " 6   Total_Trans_Amt                 7088 non-null   float64\n",
            " 7   Total_Ct_Chng_Q4_Q1             7088 non-null   float64\n",
            " 8   Avg_Utilization_Ratio           7088 non-null   float64\n",
            " 9   Gender_F                        7088 non-null   uint8  \n",
            " 10  Gender_M                        7088 non-null   uint8  \n",
            " 11  Education_Level_College         7088 non-null   uint8  \n",
            " 12  Education_Level_Doctorate       7088 non-null   uint8  \n",
            " 13  Education_Level_Graduate        7088 non-null   uint8  \n",
            " 14  Education_Level_High School     7088 non-null   uint8  \n",
            " 15  Education_Level_Post-Graduate   7088 non-null   uint8  \n",
            " 16  Education_Level_Uneducated      7088 non-null   uint8  \n",
            " 17  Education_Level_Unknown         7088 non-null   uint8  \n",
            " 18  Marital_Status_Divorced         7088 non-null   uint8  \n",
            " 19  Marital_Status_Married          7088 non-null   uint8  \n",
            " 20  Marital_Status_Single           7088 non-null   uint8  \n",
            " 21  Marital_Status_Unknown          7088 non-null   uint8  \n",
            " 22  Income_Category_$120K +         7088 non-null   uint8  \n",
            " 23  Income_Category_$40K - $60K     7088 non-null   uint8  \n",
            " 24  Income_Category_$60K - $80K     7088 non-null   uint8  \n",
            " 25  Income_Category_$80K - $120K    7088 non-null   uint8  \n",
            " 26  Income_Category_Less than $40K  7088 non-null   uint8  \n",
            " 27  Income_Category_Unknown         7088 non-null   uint8  \n",
            " 28  Card_Category_Blue              7088 non-null   uint8  \n",
            " 29  Card_Category_Gold              7088 non-null   uint8  \n",
            " 30  Card_Category_Platinum          7088 non-null   uint8  \n",
            " 31  Card_Category_Silver            7088 non-null   uint8  \n",
            "dtypes: float64(9), uint8(23)\n",
            "memory usage: 713.0 KB\n"
          ],
          "name": "stdout"
        }
      ]
    },
    {
      "cell_type": "code",
      "metadata": {
        "colab": {
          "base_uri": "https://localhost:8080/"
        },
        "id": "9KK-On29Wyr-",
        "outputId": "e0047d21-9c01-4937-b284-fb9038948a6b"
      },
      "source": [
        "from imblearn.over_sampling import SMOTENC\r\n",
        "smote_nc = SMOTENC(categorical_features=[i for i in range(9,32)], random_state=0)\r\n",
        "X_resampled, y_resampled = smote_nc.fit_resample(x_train_dummy, y_train)\r\n",
        "print(X_resampled.shape)"
      ],
      "execution_count": 499,
      "outputs": [
        {
          "output_type": "stream",
          "text": [
            "(11898, 32)\n"
          ],
          "name": "stdout"
        }
      ]
    },
    {
      "cell_type": "code",
      "metadata": {
        "id": "ZXqE3jZKgbQW"
      },
      "source": [
        "X_df=pd.DataFrame(X_resampled,columns=x_train_dummy.columns)\r\n",
        "Y_df=pd.DataFrame(y_resampled,columns=[\"Attrition_Flag\"])"
      ],
      "execution_count": 500,
      "outputs": []
    },
    {
      "cell_type": "code",
      "metadata": {
        "colab": {
          "base_uri": "https://localhost:8080/",
          "height": 174
        },
        "id": "7Wgnn5eXgxmN",
        "outputId": "d8e266c1-4f55-4e92-db58-48cf1e84ef84"
      },
      "source": [
        "X_df.head(3)"
      ],
      "execution_count": 501,
      "outputs": [
        {
          "output_type": "execute_result",
          "data": {
            "text/html": [
              "<div>\n",
              "<style scoped>\n",
              "    .dataframe tbody tr th:only-of-type {\n",
              "        vertical-align: middle;\n",
              "    }\n",
              "\n",
              "    .dataframe tbody tr th {\n",
              "        vertical-align: top;\n",
              "    }\n",
              "\n",
              "    .dataframe thead th {\n",
              "        text-align: right;\n",
              "    }\n",
              "</style>\n",
              "<table border=\"1\" class=\"dataframe\">\n",
              "  <thead>\n",
              "    <tr style=\"text-align: right;\">\n",
              "      <th></th>\n",
              "      <th>Dependent_count</th>\n",
              "      <th>Months_on_book</th>\n",
              "      <th>Total_Relationship_Count</th>\n",
              "      <th>Months_Inactive_12_mon</th>\n",
              "      <th>Contacts_Count_12_mon</th>\n",
              "      <th>Total_Amt_Chng_Q4_Q1</th>\n",
              "      <th>Total_Trans_Amt</th>\n",
              "      <th>Total_Ct_Chng_Q4_Q1</th>\n",
              "      <th>Avg_Utilization_Ratio</th>\n",
              "      <th>Gender_F</th>\n",
              "      <th>Gender_M</th>\n",
              "      <th>Education_Level_College</th>\n",
              "      <th>Education_Level_Doctorate</th>\n",
              "      <th>Education_Level_Graduate</th>\n",
              "      <th>Education_Level_High School</th>\n",
              "      <th>Education_Level_Post-Graduate</th>\n",
              "      <th>Education_Level_Uneducated</th>\n",
              "      <th>Education_Level_Unknown</th>\n",
              "      <th>Marital_Status_Divorced</th>\n",
              "      <th>Marital_Status_Married</th>\n",
              "      <th>Marital_Status_Single</th>\n",
              "      <th>Marital_Status_Unknown</th>\n",
              "      <th>Income_Category_$120K +</th>\n",
              "      <th>Income_Category_$40K - $60K</th>\n",
              "      <th>Income_Category_$60K - $80K</th>\n",
              "      <th>Income_Category_$80K - $120K</th>\n",
              "      <th>Income_Category_Less than $40K</th>\n",
              "      <th>Income_Category_Unknown</th>\n",
              "      <th>Card_Category_Blue</th>\n",
              "      <th>Card_Category_Gold</th>\n",
              "      <th>Card_Category_Platinum</th>\n",
              "      <th>Card_Category_Silver</th>\n",
              "    </tr>\n",
              "  </thead>\n",
              "  <tbody>\n",
              "    <tr>\n",
              "      <th>0</th>\n",
              "      <td>0.60</td>\n",
              "      <td>0.49</td>\n",
              "      <td>0.20</td>\n",
              "      <td>0.33</td>\n",
              "      <td>0.33</td>\n",
              "      <td>0.25</td>\n",
              "      <td>0.68</td>\n",
              "      <td>0.24</td>\n",
              "      <td>0.00</td>\n",
              "      <td>1.00</td>\n",
              "      <td>0.00</td>\n",
              "      <td>0.00</td>\n",
              "      <td>0.00</td>\n",
              "      <td>0.00</td>\n",
              "      <td>1.00</td>\n",
              "      <td>0.00</td>\n",
              "      <td>0.00</td>\n",
              "      <td>0.00</td>\n",
              "      <td>0.00</td>\n",
              "      <td>0.00</td>\n",
              "      <td>1.00</td>\n",
              "      <td>0.00</td>\n",
              "      <td>0.00</td>\n",
              "      <td>0.00</td>\n",
              "      <td>0.00</td>\n",
              "      <td>0.00</td>\n",
              "      <td>1.00</td>\n",
              "      <td>0.00</td>\n",
              "      <td>1.00</td>\n",
              "      <td>0.00</td>\n",
              "      <td>0.00</td>\n",
              "      <td>0.00</td>\n",
              "    </tr>\n",
              "    <tr>\n",
              "      <th>1</th>\n",
              "      <td>0.40</td>\n",
              "      <td>0.53</td>\n",
              "      <td>0.80</td>\n",
              "      <td>0.50</td>\n",
              "      <td>0.33</td>\n",
              "      <td>0.26</td>\n",
              "      <td>0.05</td>\n",
              "      <td>0.35</td>\n",
              "      <td>0.61</td>\n",
              "      <td>0.00</td>\n",
              "      <td>1.00</td>\n",
              "      <td>0.00</td>\n",
              "      <td>0.00</td>\n",
              "      <td>0.00</td>\n",
              "      <td>0.00</td>\n",
              "      <td>0.00</td>\n",
              "      <td>1.00</td>\n",
              "      <td>0.00</td>\n",
              "      <td>0.00</td>\n",
              "      <td>1.00</td>\n",
              "      <td>0.00</td>\n",
              "      <td>0.00</td>\n",
              "      <td>0.00</td>\n",
              "      <td>0.00</td>\n",
              "      <td>1.00</td>\n",
              "      <td>0.00</td>\n",
              "      <td>0.00</td>\n",
              "      <td>0.00</td>\n",
              "      <td>1.00</td>\n",
              "      <td>0.00</td>\n",
              "      <td>0.00</td>\n",
              "      <td>0.00</td>\n",
              "    </tr>\n",
              "    <tr>\n",
              "      <th>2</th>\n",
              "      <td>0.60</td>\n",
              "      <td>0.58</td>\n",
              "      <td>0.60</td>\n",
              "      <td>1.00</td>\n",
              "      <td>0.67</td>\n",
              "      <td>0.14</td>\n",
              "      <td>0.17</td>\n",
              "      <td>0.15</td>\n",
              "      <td>0.05</td>\n",
              "      <td>1.00</td>\n",
              "      <td>0.00</td>\n",
              "      <td>0.00</td>\n",
              "      <td>0.00</td>\n",
              "      <td>0.00</td>\n",
              "      <td>1.00</td>\n",
              "      <td>0.00</td>\n",
              "      <td>0.00</td>\n",
              "      <td>0.00</td>\n",
              "      <td>0.00</td>\n",
              "      <td>1.00</td>\n",
              "      <td>0.00</td>\n",
              "      <td>0.00</td>\n",
              "      <td>0.00</td>\n",
              "      <td>0.00</td>\n",
              "      <td>0.00</td>\n",
              "      <td>0.00</td>\n",
              "      <td>0.00</td>\n",
              "      <td>1.00</td>\n",
              "      <td>1.00</td>\n",
              "      <td>0.00</td>\n",
              "      <td>0.00</td>\n",
              "      <td>0.00</td>\n",
              "    </tr>\n",
              "  </tbody>\n",
              "</table>\n",
              "</div>"
            ],
            "text/plain": [
              "   Dependent_count  ...  Card_Category_Silver\n",
              "0             0.60  ...                  0.00\n",
              "1             0.40  ...                  0.00\n",
              "2             0.60  ...                  0.00\n",
              "\n",
              "[3 rows x 32 columns]"
            ]
          },
          "metadata": {
            "tags": []
          },
          "execution_count": 501
        }
      ]
    },
    {
      "cell_type": "code",
      "metadata": {
        "colab": {
          "base_uri": "https://localhost:8080/",
          "height": 1000
        },
        "id": "SGgKX4zih4-_",
        "outputId": "5df7c56f-c33d-44d1-c3c8-0aa1cadbca27"
      },
      "source": [
        "from xgboost import XGBClassifier\r\n",
        "from sklearn.ensemble import AdaBoostClassifier\r\n",
        "from sklearn.ensemble import RandomForestClassifier\r\n",
        "from sklearn.naive_bayes import GaussianNB\r\n",
        "from sklearn.svm import SVC\r\n",
        "\r\n",
        "from sklearn.metrics import classification_report,confusion_matrix\r\n",
        "\r\n",
        "models=[XGBClassifier(),AdaBoostClassifier(),RandomForestClassifier(n_estimators=110,class_weight='balanced'),GaussianNB(),SVC()]\r\n",
        "for i in models:\r\n",
        "  print(\"****{}****\".format(i))\r\n",
        "  i.fit(X_df, Y_df)\r\n",
        "  pred=i.predict(x_test_dummy)\r\n",
        "  cnf_matrix=confusion_matrix(y_test,pred)\r\n",
        "  sns.heatmap(cnf_matrix,annot=True, fmt='', cmap='Blues')\r\n",
        "  plt.xlabel('Predicted')\r\n",
        "  plt.ylabel('Actual')\r\n",
        "  plt.show()\r\n",
        "  print(classification_report(y_test,pred))"
      ],
      "execution_count": 502,
      "outputs": [
        {
          "output_type": "stream",
          "text": [
            "****XGBClassifier(base_score=0.5, booster='gbtree', colsample_bylevel=1,\n",
            "              colsample_bynode=1, colsample_bytree=1, gamma=0,\n",
            "              learning_rate=0.1, max_delta_step=0, max_depth=3,\n",
            "              min_child_weight=1, missing=None, n_estimators=100, n_jobs=1,\n",
            "              nthread=None, objective='binary:logistic', random_state=0,\n",
            "              reg_alpha=0, reg_lambda=1, scale_pos_weight=1, seed=None,\n",
            "              silent=None, subsample=1, verbosity=1)****\n"
          ],
          "name": "stdout"
        },
        {
          "output_type": "display_data",
          "data": {
            "image/png": "[encoded data removed]",
            "text/plain": [
              "<Figure size 432x288 with 2 Axes>"
            ]
          },
          "metadata": {
            "tags": [],
            "needs_background": "light"
          }
        },
        {
          "output_type": "stream",
          "text": [
            "              precision    recall  f1-score   support\n",
            "\n",
            "           0       0.71      0.86      0.78       488\n",
            "           1       0.97      0.93      0.95      2551\n",
            "\n",
            "    accuracy                           0.92      3039\n",
            "   macro avg       0.84      0.90      0.87      3039\n",
            "weighted avg       0.93      0.92      0.93      3039\n",
            "\n",
            "****AdaBoostClassifier(algorithm='SAMME.R', base_estimator=None, learning_rate=1.0,\n",
            "                   n_estimators=50, random_state=None)****\n"
          ],
          "name": "stdout"
        },
        {
          "output_type": "display_data",
          "data": {
            "image/png": "[encoded data removed]",
            "text/plain": [
              "<Figure size 432x288 with 2 Axes>"
            ]
          },
          "metadata": {
            "tags": [],
            "needs_background": "light"
          }
        },
        {
          "output_type": "stream",
          "text": [
            "              precision    recall  f1-score   support\n",
            "\n",
            "           0       0.64      0.77      0.70       488\n",
            "           1       0.95      0.92      0.94      2551\n",
            "\n",
            "    accuracy                           0.89      3039\n",
            "   macro avg       0.80      0.85      0.82      3039\n",
            "weighted avg       0.90      0.89      0.90      3039\n",
            "\n",
            "****RandomForestClassifier(bootstrap=True, ccp_alpha=0.0, class_weight='balanced',\n",
            "                       criterion='gini', max_depth=None, max_features='auto',\n",
            "                       max_leaf_nodes=None, max_samples=None,\n",
            "                       min_impurity_decrease=0.0, min_impurity_split=None,\n",
            "                       min_samples_leaf=1, min_samples_split=2,\n",
            "                       min_weight_fraction_leaf=0.0, n_estimators=110,\n",
            "                       n_jobs=None, oob_score=False, random_state=None,\n",
            "                       verbose=0, warm_start=False)****\n"
          ],
          "name": "stdout"
        },
        {
          "output_type": "display_data",
          "data": {
            "image/png": "[encoded data removed]",
            "text/plain": [
              "<Figure size 432x288 with 2 Axes>"
            ]
          },
          "metadata": {
            "tags": [],
            "needs_background": "light"
          }
        },
        {
          "output_type": "stream",
          "text": [
            "              precision    recall  f1-score   support\n",
            "\n",
            "           0       0.78      0.80      0.79       488\n",
            "           1       0.96      0.96      0.96      2551\n",
            "\n",
            "    accuracy                           0.93      3039\n",
            "   macro avg       0.87      0.88      0.88      3039\n",
            "weighted avg       0.93      0.93      0.93      3039\n",
            "\n",
            "****GaussianNB(priors=None, var_smoothing=1e-09)****\n"
          ],
          "name": "stdout"
        },
        {
          "output_type": "display_data",
          "data": {
            "image/png": "[encoded data removed]",
            "text/plain": [
              "<Figure size 432x288 with 2 Axes>"
            ]
          },
          "metadata": {
            "tags": [],
            "needs_background": "light"
          }
        },
        {
          "output_type": "stream",
          "text": [
            "              precision    recall  f1-score   support\n",
            "\n",
            "           0       0.18      0.52      0.27       488\n",
            "           1       0.86      0.56      0.68      2551\n",
            "\n",
            "    accuracy                           0.55      3039\n",
            "   macro avg       0.52      0.54      0.47      3039\n",
            "weighted avg       0.75      0.55      0.61      3039\n",
            "\n",
            "****SVC(C=1.0, break_ties=False, cache_size=200, class_weight=None, coef0=0.0,\n",
            "    decision_function_shape='ovr', degree=3, gamma='scale', kernel='rbf',\n",
            "    max_iter=-1, probability=False, random_state=None, shrinking=True,\n",
            "    tol=0.001, verbose=False)****\n"
          ],
          "name": "stdout"
        },
        {
          "output_type": "display_data",
          "data": {
            "image/png": "[encoded data removed]",
            "text/plain": [
              "<Figure size 432x288 with 2 Axes>"
            ]
          },
          "metadata": {
            "tags": [],
            "needs_background": "light"
          }
        },
        {
          "output_type": "stream",
          "text": [
            "              precision    recall  f1-score   support\n",
            "\n",
            "           0       0.66      0.42      0.52       488\n",
            "           1       0.90      0.96      0.93      2551\n",
            "\n",
            "    accuracy                           0.87      3039\n",
            "   macro avg       0.78      0.69      0.72      3039\n",
            "weighted avg       0.86      0.87      0.86      3039\n",
            "\n"
          ],
          "name": "stdout"
        }
      ]
    },
    {
      "cell_type": "markdown",
      "metadata": {
        "id": "3TuOVeXJzemv"
      },
      "source": [
        "*   After minority oversampling using SMOTE-NC it was evident that two model performed well and they are XGBCLassifier and RandomForest.\r\n",
        "*   RandomForest: False Positive is 99 and False Negative is 107\r\n",
        "*   XGB: False Positive is 67 and False Negative is 168\r\n",
        "*   Itcan be inferred, XGB False positive is less compared to RandomForest False Positive whereas vice versa for False Negative.\r\n",
        "*   As we want to withold the customers who are likely to churn then the best model is where the False Positive and False Negative is very less but if either of the two needs to be prioritized, I'll choose False Positive to be less.\r\n",
        "*   Hence, I select XGBClassifier as my model as comparatively it's predicting 32 correct result of customers who are likely to be churn on risk of offering benefit plans to 61 existing customers. This will also increase the likelyhood of those existing 61 customers to be a life long holder of the service offered.\r\n",
        "\r\n",
        "\r\n"
      ]
    },
    {
      "cell_type": "markdown",
      "metadata": {
        "id": "PXBTSrYmxh1s"
      },
      "source": [
        "Hypertuning XGBClassifier on SMOTE-NC oversampled dataset\r\n",
        "\r\n",
        "---\r\n",
        "\r\n",
        "\r\n",
        "\r\n"
      ]
    },
    {
      "cell_type": "code",
      "metadata": {
        "colab": {
          "base_uri": "https://localhost:8080/"
        },
        "id": "I0boSqz1vWXg",
        "outputId": "a5dad17b-0156-4a5b-8f28-ce62222672bf"
      },
      "source": [
        "from sklearn.model_selection import RandomizedSearchCV\r\n",
        "grid={'reg_alpha':[0, 0.001, 0.005, 0.01, 0.05],'reg_alpha':[1e-5, 1e-2, 0.1, 1, 100],\"max_depth\": range(3,10,2),'min_child_weight':[4,5,6],\"ccp_alpha\" : [0,1,2],\"n_estimators\": range(60,220,20),\"learning_rate\" : [1e-3, 1e-1, 1e-2,'log-uniform']}\r\n",
        "random=RandomizedSearchCV(estimator=XGBClassifier(), param_distributions=grid, n_jobs=-1, cv=10, scoring='roc_auc')\r\n",
        "random.fit(X_df, Y_df)\r\n",
        "print(random.best_score_,random.best_params_)\r\n",
        "print(random.best_estimator_)"
      ],
      "execution_count": 507,
      "outputs": [
        {
          "output_type": "stream",
          "text": [
            "0.9955974508638867 {'reg_alpha': 0.1, 'n_estimators': 180, 'min_child_weight': 4, 'max_depth': 7, 'learning_rate': 0.1, 'ccp_alpha': 0}\n",
            "XGBClassifier(base_score=0.5, booster='gbtree', ccp_alpha=0,\n",
            "              colsample_bylevel=1, colsample_bynode=1, colsample_bytree=1,\n",
            "              gamma=0, learning_rate=0.1, max_delta_step=0, max_depth=7,\n",
            "              min_child_weight=4, missing=None, n_estimators=180, n_jobs=1,\n",
            "              nthread=None, objective='binary:logistic', random_state=0,\n",
            "              reg_alpha=0.1, reg_lambda=1, scale_pos_weight=1, seed=None,\n",
            "              silent=None, subsample=1, verbosity=1)\n"
          ],
          "name": "stdout"
        }
      ]
    },
    {
      "cell_type": "code",
      "metadata": {
        "colab": {
          "base_uri": "https://localhost:8080/",
          "height": 438
        },
        "id": "TuaKUxjgvSJt",
        "outputId": "44382ad3-c6c9-4ae3-8b7f-2062d61908c0"
      },
      "source": [
        "xgb_model2=XGBClassifier(base_score=0.5, booster='gbtree', ccp_alpha=0,\r\n",
        "              colsample_bylevel=1, colsample_bynode=1, colsample_bytree=1,\r\n",
        "              gamma=0, learning_rate=0.1, max_delta_step=0, max_depth=7,\r\n",
        "              min_child_weight=4, missing=None, n_estimators=180, n_jobs=1,\r\n",
        "              nthread=None, objective='binary:logistic', random_state=0,\r\n",
        "              reg_alpha=0.1, reg_lambda=1, scale_pos_weight=1, seed=None,\r\n",
        "              silent=None, subsample=1, verbosity=1)\r\n",
        "xgb_model2.fit(X_df, Y_df)\r\n",
        "xgb_pred2=xgb_model2.predict(x_test_dummy)\r\n",
        "xgb_cnf_matrix2=confusion_matrix(y_test,xgb_pred2)\r\n",
        "sns.heatmap(xgb_cnf_matrix2,annot=True, fmt='', cmap='Blues')\r\n",
        "plt.xlabel('Predicted')\r\n",
        "plt.ylabel('Actual')\r\n",
        "plt.show()\r\n",
        "print(classification_report(y_test,xgb_pred2))"
      ],
      "execution_count": 512,
      "outputs": [
        {
          "output_type": "display_data",
          "data": {
            "image/png": "[encoded data removed]",
            "text/plain": [
              "<Figure size 432x288 with 2 Axes>"
            ]
          },
          "metadata": {
            "tags": [],
            "needs_background": "light"
          }
        },
        {
          "output_type": "stream",
          "text": [
            "              precision    recall  f1-score   support\n",
            "\n",
            "           0       0.84      0.85      0.84       488\n",
            "           1       0.97      0.97      0.97      2551\n",
            "\n",
            "    accuracy                           0.95      3039\n",
            "   macro avg       0.90      0.91      0.91      3039\n",
            "weighted avg       0.95      0.95      0.95      3039\n",
            "\n"
          ],
          "name": "stdout"
        }
      ]
    },
    {
      "cell_type": "markdown",
      "metadata": {
        "id": "HzwSgZab9uoO"
      },
      "source": [
        "\r\n",
        "\r\n",
        "*   On hypertuning the model, I was able to increase the performance from f1 score of 78 to 84%  and overall accuracy to 95%.\r\n",
        "\r\n"
      ]
    },
    {
      "cell_type": "code",
      "metadata": {
        "id": "dBcyipCfx3jx"
      },
      "source": [
        ""
      ],
      "execution_count": null,
      "outputs": []
    }
  ]
}